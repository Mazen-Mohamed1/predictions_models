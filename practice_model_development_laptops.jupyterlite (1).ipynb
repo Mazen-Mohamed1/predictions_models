{
 "cells": [
  {
   "cell_type": "markdown",
   "metadata": {},
   "source": [
    "<p style=\"text-align:center\">\n",
    "    <a href=\"https://skills.network\" target=\"_blank\">\n",
    "    <img src=\"https://cf-courses-data.s3.us.cloud-object-storage.appdomain.cloud/assets/logos/SN_web_lightmode.png\" width=\"300\" alt=\"Skills Network Logo\">\n",
    "    </a>\n",
    "</p>\n"
   ]
  },
  {
   "cell_type": "markdown",
   "metadata": {},
   "source": [
    "# **Hands-on practice lab: Model Development**\n",
    "\n",
    "Estimated time needed: **45** minutes\n",
    "\n",
    "In this lab, you will use the skills acquired in throughout the module, and use linear regression principles to create a model that predicts the Price of the laptop, based on one or more attributes of the dataset.\n"
   ]
  },
  {
   "cell_type": "markdown",
   "metadata": {},
   "source": [
    "# Objectives\n",
    "\n",
    "After completing this lab you will be able to:\n",
    "\n",
    " - Use Linear Regression in one variable to fit the parameters to a model\n",
    " - Use Linear Regression in multiple variables to fit the parameters to a model\n",
    " - Use Polynomial Regression in single variable tofit the parameters to a model\n",
    " - Create a pipeline for performing linear regression using multiple features in polynomial scaling\n",
    " - Evaluate the performance of different forms of regression on basis of MSE and R^2 parameters\n"
   ]
  },
  {
   "cell_type": "markdown",
   "metadata": {},
   "source": [
    "# Setup\n"
   ]
  },
  {
   "cell_type": "markdown",
   "metadata": {},
   "source": [
    "For this lab, we will be using the following libraries:\n",
    "\n",
    "*   [`pandas`](https://pandas.pydata.org/?utm_medium=Exinfluencer&utm_source=Exinfluencer&utm_content=000026UJ&utm_term=10006555&utm_id=NA-SkillsNetwork-Channel-SkillsNetworkCoursesIBMML0187ENSkillsNetwork31430127-2021-01-01) for managing the data.\n",
    "*   [`numpy`](https://numpy.org/?utm_medium=Exinfluencer&utm_source=Exinfluencer&utm_content=000026UJ&utm_term=10006555&utm_id=NA-SkillsNetwork-Channel-SkillsNetworkCoursesIBMML0187ENSkillsNetwork31430127-2021-01-01) for mathematical operations.\n",
    "*   [`sklearn`](https://scikit-learn.org/stable/?utm_medium=Exinfluencer&utm_source=Exinfluencer&utm_content=000026UJ&utm_term=10006555&utm_id=NA-SkillsNetwork-Channel-SkillsNetworkCoursesIBMML0187ENSkillsNetwork31430127-2021-01-01) for machine learning and machine-learning-pipeline related functions.\n",
    "*   [`seaborn`](https://seaborn.pydata.org/?utm_medium=Exinfluencer&utm_source=Exinfluencer&utm_content=000026UJ&utm_term=10006555&utm_id=NA-SkillsNetwork-Channel-SkillsNetworkCoursesIBMML0187ENSkillsNetwork31430127-2021-01-01) for visualizing the data.\n",
    "*   [`matplotlib`](https://matplotlib.org/?utm_medium=Exinfluencer&utm_source=Exinfluencer&utm_content=000026UJ&utm_term=10006555&utm_id=NA-SkillsNetwork-Channel-SkillsNetworkCoursesIBMML0187ENSkillsNetwork31430127-2021-01-01) for additional plotting tools.\n"
   ]
  },
  {
   "cell_type": "markdown",
   "metadata": {},
   "source": [
    "The following required libraries are __not__ pre-installed in the Skills Network Labs environment. __You will need to run the following cell__ to install them:\n"
   ]
  },
  {
   "cell_type": "code",
   "execution_count": null,
   "metadata": {},
   "outputs": [],
   "source": [
    "import piplite\n",
    "await piplite.install('seaborn')"
   ]
  },
  {
   "cell_type": "markdown",
   "metadata": {},
   "source": [
    "### Importing Required Libraries\n",
    "\n",
    "_We recommend you import all required libraries in one place (here):_\n"
   ]
  },
  {
   "cell_type": "code",
   "execution_count": 1,
   "metadata": {},
   "outputs": [],
   "source": [
    "import pandas as pd\n",
    "import numpy as np\n",
    "import matplotlib.pyplot as plt\n",
    "import seaborn as sns\n",
    "from sklearn.linear_model import LinearRegression\n",
    "from sklearn.preprocessing import StandardScaler, PolynomialFeatures\n",
    "from sklearn.pipeline import Pipeline\n",
    "from sklearn.metrics import mean_squared_error, r2_score\n",
    "import warnings\n",
    "warnings.filterwarnings(\"ignore\", category=UserWarning) \n",
    "%matplotlib inline"
   ]
  },
  {
   "cell_type": "markdown",
   "metadata": {},
   "source": [
    "### Importing the dataset\n",
    "Run the cell below to download the dataset into this environment.\n",
    "\n",
    "This function will download the dataset into your browser\n"
   ]
  },
  {
   "cell_type": "code",
   "execution_count": null,
   "metadata": {},
   "outputs": [],
   "source": [
    "#This function will download the dataset into your browser \n",
    "\n",
    "from pyodide.http import pyfetch\n",
    "\n",
    "async def download(url, filename):\n",
    "    response = await pyfetch(url)\n",
    "    if response.status == 200:\n",
    "        with open(filename, \"wb\") as f:\n",
    "            f.write(await response.bytes())"
   ]
  },
  {
   "cell_type": "markdown",
   "metadata": {},
   "source": [
    "We put the file path along with a quotation mark so that pandas will read the file into a dataframe from that address. The file path can be either an URL or your local file address.\n"
   ]
  },
  {
   "cell_type": "code",
   "execution_count": null,
   "metadata": {},
   "outputs": [],
   "source": [
    "path = \"https://cf-courses-data.s3.us.cloud-object-storage.appdomain.cloud/IBMDeveloperSkillsNetwork-DA0101EN-Coursera/laptop_pricing_dataset_mod2.csv\""
   ]
  },
  {
   "cell_type": "markdown",
   "metadata": {},
   "source": [
    "You will need to download the dataset using the download() function:\n"
   ]
  },
  {
   "cell_type": "code",
   "execution_count": null,
   "metadata": {},
   "outputs": [],
   "source": [
    "#you will need to download the dataset;\n",
    "await download(path, \"laptops.csv\")\n",
    "file_name=\"laptops.csv\""
   ]
  },
  {
   "cell_type": "markdown",
   "metadata": {},
   "source": [
    "Load the dataset into a pandas dataframe\n"
   ]
  },
  {
   "cell_type": "code",
   "execution_count": 2,
   "metadata": {},
   "outputs": [],
   "source": [
    "df = pd.read_csv(\"D:\\laptop_pricing_dataset_mod2.csv\", header=0)"
   ]
  },
  {
   "cell_type": "markdown",
   "metadata": {},
   "source": [
    ">Note: This version of the lab is working on JupyterLite, which requires the dataset to be downloaded to the interface.While working on the downloaded version of this notebook on their local machines(Jupyter Anaconda), the learners can simply skip the steps above, and simply use the URL directly in the pandas.read_csv() function. You can uncomment and run the statements in the cell below.\n"
   ]
  },
  {
   "cell_type": "code",
   "execution_count": null,
   "metadata": {},
   "outputs": [],
   "source": [
    "#https://cf-courses-data.s3.us.cloud-object-storage.appdomain.cloud/IBMDeveloperSkillsNetwork-DA0101EN-Coursera/laptop_pricing_dataset_mod2.csv\"\n",
    "#df = pd.read_csv(filepath, header=None)"
   ]
  },
  {
   "cell_type": "code",
   "execution_count": 3,
   "metadata": {},
   "outputs": [
    {
     "name": "stdout",
     "output_type": "stream",
     "text": [
      "The first 5 rows of the dataframe\n"
     ]
    },
    {
     "data": {
      "text/html": [
       "<div>\n",
       "<style scoped>\n",
       "    .dataframe tbody tr th:only-of-type {\n",
       "        vertical-align: middle;\n",
       "    }\n",
       "\n",
       "    .dataframe tbody tr th {\n",
       "        vertical-align: top;\n",
       "    }\n",
       "\n",
       "    .dataframe thead th {\n",
       "        text-align: right;\n",
       "    }\n",
       "</style>\n",
       "<table border=\"1\" class=\"dataframe\">\n",
       "  <thead>\n",
       "    <tr style=\"text-align: right;\">\n",
       "      <th></th>\n",
       "      <th>Unnamed: 0.1</th>\n",
       "      <th>Unnamed: 0</th>\n",
       "      <th>Manufacturer</th>\n",
       "      <th>Category</th>\n",
       "      <th>GPU</th>\n",
       "      <th>OS</th>\n",
       "      <th>CPU_core</th>\n",
       "      <th>Screen_Size_inch</th>\n",
       "      <th>CPU_frequency</th>\n",
       "      <th>RAM_GB</th>\n",
       "      <th>Storage_GB_SSD</th>\n",
       "      <th>Weight_pounds</th>\n",
       "      <th>Price</th>\n",
       "      <th>Price-binned</th>\n",
       "      <th>Screen-Full_HD</th>\n",
       "      <th>Screen-IPS_panel</th>\n",
       "    </tr>\n",
       "  </thead>\n",
       "  <tbody>\n",
       "    <tr>\n",
       "      <th>0</th>\n",
       "      <td>0</td>\n",
       "      <td>0</td>\n",
       "      <td>Acer</td>\n",
       "      <td>4</td>\n",
       "      <td>2</td>\n",
       "      <td>1</td>\n",
       "      <td>5</td>\n",
       "      <td>14.0</td>\n",
       "      <td>0.551724</td>\n",
       "      <td>8</td>\n",
       "      <td>256</td>\n",
       "      <td>3.52800</td>\n",
       "      <td>978</td>\n",
       "      <td>Low</td>\n",
       "      <td>0</td>\n",
       "      <td>1</td>\n",
       "    </tr>\n",
       "    <tr>\n",
       "      <th>1</th>\n",
       "      <td>1</td>\n",
       "      <td>1</td>\n",
       "      <td>Dell</td>\n",
       "      <td>3</td>\n",
       "      <td>1</td>\n",
       "      <td>1</td>\n",
       "      <td>3</td>\n",
       "      <td>15.6</td>\n",
       "      <td>0.689655</td>\n",
       "      <td>4</td>\n",
       "      <td>256</td>\n",
       "      <td>4.85100</td>\n",
       "      <td>634</td>\n",
       "      <td>Low</td>\n",
       "      <td>1</td>\n",
       "      <td>0</td>\n",
       "    </tr>\n",
       "    <tr>\n",
       "      <th>2</th>\n",
       "      <td>2</td>\n",
       "      <td>2</td>\n",
       "      <td>Dell</td>\n",
       "      <td>3</td>\n",
       "      <td>1</td>\n",
       "      <td>1</td>\n",
       "      <td>7</td>\n",
       "      <td>15.6</td>\n",
       "      <td>0.931034</td>\n",
       "      <td>8</td>\n",
       "      <td>256</td>\n",
       "      <td>4.85100</td>\n",
       "      <td>946</td>\n",
       "      <td>Low</td>\n",
       "      <td>1</td>\n",
       "      <td>0</td>\n",
       "    </tr>\n",
       "    <tr>\n",
       "      <th>3</th>\n",
       "      <td>3</td>\n",
       "      <td>3</td>\n",
       "      <td>Dell</td>\n",
       "      <td>4</td>\n",
       "      <td>2</td>\n",
       "      <td>1</td>\n",
       "      <td>5</td>\n",
       "      <td>13.3</td>\n",
       "      <td>0.551724</td>\n",
       "      <td>8</td>\n",
       "      <td>128</td>\n",
       "      <td>2.69010</td>\n",
       "      <td>1244</td>\n",
       "      <td>Low</td>\n",
       "      <td>0</td>\n",
       "      <td>1</td>\n",
       "    </tr>\n",
       "    <tr>\n",
       "      <th>4</th>\n",
       "      <td>4</td>\n",
       "      <td>4</td>\n",
       "      <td>HP</td>\n",
       "      <td>4</td>\n",
       "      <td>2</td>\n",
       "      <td>1</td>\n",
       "      <td>7</td>\n",
       "      <td>15.6</td>\n",
       "      <td>0.620690</td>\n",
       "      <td>8</td>\n",
       "      <td>256</td>\n",
       "      <td>4.21155</td>\n",
       "      <td>837</td>\n",
       "      <td>Low</td>\n",
       "      <td>1</td>\n",
       "      <td>0</td>\n",
       "    </tr>\n",
       "  </tbody>\n",
       "</table>\n",
       "</div>"
      ],
      "text/plain": [
       "   Unnamed: 0.1  Unnamed: 0 Manufacturer  Category  GPU  OS  CPU_core  \\\n",
       "0             0           0         Acer         4    2   1         5   \n",
       "1             1           1         Dell         3    1   1         3   \n",
       "2             2           2         Dell         3    1   1         7   \n",
       "3             3           3         Dell         4    2   1         5   \n",
       "4             4           4           HP         4    2   1         7   \n",
       "\n",
       "   Screen_Size_inch  CPU_frequency  RAM_GB  Storage_GB_SSD  Weight_pounds  \\\n",
       "0              14.0       0.551724       8             256        3.52800   \n",
       "1              15.6       0.689655       4             256        4.85100   \n",
       "2              15.6       0.931034       8             256        4.85100   \n",
       "3              13.3       0.551724       8             128        2.69010   \n",
       "4              15.6       0.620690       8             256        4.21155   \n",
       "\n",
       "   Price Price-binned  Screen-Full_HD  Screen-IPS_panel  \n",
       "0    978          Low               0                 1  \n",
       "1    634          Low               1                 0  \n",
       "2    946          Low               1                 0  \n",
       "3   1244          Low               0                 1  \n",
       "4    837          Low               1                 0  "
      ]
     },
     "execution_count": 3,
     "metadata": {},
     "output_type": "execute_result"
    }
   ],
   "source": [
    "# show the first 5 rows using dataframe.head() method\n",
    "print(\"The first 5 rows of the dataframe\") \n",
    "df.head(5)"
   ]
  },
  {
   "cell_type": "markdown",
   "metadata": {},
   "source": [
    "# Task 1 : Single Linear Regression\n",
    "\n",
    "You have learnt that \"CPU_frequency\" is the parameter with the lowest p-value among the different features of the dataset. Create a single feature Linear Regression model that fits the pair of \"CPU_frequency\" and \"Price\" to find the model for prediction.\n"
   ]
  },
  {
   "cell_type": "code",
   "execution_count": 67,
   "metadata": {},
   "outputs": [],
   "source": [
    "# Write your code below and press Shift+Enter to execute \n",
    "lm = LinearRegression()\n",
    "x = df[['CPU_frequency']]\n",
    "y = df['Price']\n",
    "lm.fit(x, y)\n",
    "Yhat = lm.predict(x) "
   ]
  },
  {
   "cell_type": "markdown",
   "metadata": {},
   "source": [
    "<details>\n",
    "    <summary>Click here for Solution</summary>\n",
    "\n",
    "```python\n",
    "lm = LinearRegression()\n",
    "\n",
    "X = df[['CPU_frequency']]\n",
    "Y = df['Price']\n",
    "\n",
    "lm.fit(X,Y)\n",
    "\n",
    "Yhat=lm.predict(X)\n",
    "```\n",
    "\n",
    "</details>\n"
   ]
  },
  {
   "cell_type": "markdown",
   "metadata": {},
   "source": [
    "Generate the Distribution plot for the predicted values and that of the actual values. How well did the model perform?\n"
   ]
  },
  {
   "cell_type": "code",
   "execution_count": 35,
   "metadata": {},
   "outputs": [
    {
     "data": {
      "image/png": "[encoded data removed]",
      "text/plain": [
       "<Figure size 640x480 with 1 Axes>"
      ]
     },
     "metadata": {},
     "output_type": "display_data"
    }
   ],
   "source": [
    "ax1 = sns.distplot(df['Price'], hist=False, color=\"r\", label=\"Actual Value\")\n",
    "\n",
    "# Create a distribution plot for predicted values\n",
    "sns.distplot(Yhat, hist=False, color=\"b\", label=\"Fitted Values\" , ax=ax1)\n",
    "\n",
    "plt.title('Actual vs Fitted Values for Price')\n",
    "plt.xlabel('Price')\n",
    "plt.ylabel('Proportion of laptops')\n",
    "plt.legend(['Actual Value', 'Predicted Value'])\n",
    "plt.show()"
   ]
  },
  {
   "cell_type": "markdown",
   "metadata": {},
   "source": [
    "<details>\n",
    "    <summary>Click here for Solution</summary>\n",
    "\n",
    "```python\n",
    "ax1 = sns.distplot(df['Price'], hist=False, color=\"r\", label=\"Actual Value\")\n",
    "\n",
    "# Create a distribution plot for predicted values\n",
    "sns.distplot(Yhat, hist=False, color=\"b\", label=\"Fitted Values\" , ax=ax1)\n",
    "\n",
    "plt.title('Actual vs Fitted Values for Price')\n",
    "plt.xlabel('Price')\n",
    "plt.ylabel('Proportion of laptops')\n",
    "plt.legend(['Actual Value', 'Predicted Value'])\n",
    "plt.show()\n",
    "```\n",
    "\n",
    "</details>\n"
   ]
  },
  {
   "cell_type": "markdown",
   "metadata": {},
   "source": [
    "Evaluate the Mean Squared Error and R^2 score values for the model. \n"
   ]
  },
  {
   "cell_type": "code",
   "execution_count": 36,
   "metadata": {},
   "outputs": [
    {
     "name": "stdout",
     "output_type": "stream",
     "text": [
      "The R-square for Linear Regression is:  0.1344436321024326\n",
      "The mean square error of price and predicted value is:  284583.4405868629\n"
     ]
    }
   ],
   "source": [
    "# Write your code below and press Shift+Enter to execute \n",
    "mse_slr = mean_squared_error(df['Price'], Yhat)\n",
    "r2_score_slr = lm.score(x, y)\n",
    "print('The R-square for Linear Regression is: ', r2_score_slr)\n",
    "print('The mean square error of price and predicted value is: ', mse_slr)"
   ]
  },
  {
   "cell_type": "markdown",
   "metadata": {},
   "source": [
    "<details>\n",
    "    <summary>Click here for Solution</summary>\n",
    "\n",
    "```python\n",
    "mse_slr = mean_squared_error(df['Price'], Yhat)\n",
    "r2_score_slr = lm.score(X, Y)\n",
    "print('The R-square for Linear Regression is: ', r2_score_slr)\n",
    "print('The mean square error of price and predicted value is: ', mse_slr)\n",
    "```\n",
    "\n",
    "</details>\n"
   ]
  },
  {
   "cell_type": "markdown",
   "metadata": {},
   "source": [
    "# Task 2 - Multiple Linear Regression\n",
    "The parameters which have a low enough p-value so as to indicate strong relationship with the 'Price' value are 'CPU_frequency', 'RAM_GB', 'Storage_GB_SSD', 'CPU_core', 'OS', 'GPU' and 'Category'. Use all these variables to create a Multiple Linear Regression system. \n"
   ]
  },
  {
   "cell_type": "code",
   "execution_count": 38,
   "metadata": {},
   "outputs": [],
   "source": [
    "# Write your code below and press Shift+Enter to execute \n",
    "z = df[['CPU_frequency', 'RAM_GB', 'Storage_GB_SSD', 'CPU_core', 'OS', 'GPU' , 'Category']]\n",
    "lm.fit(z, y)\n",
    "Yhat1 = lm.predict(z)"
   ]
  },
  {
   "cell_type": "markdown",
   "metadata": {},
   "source": [
    "<details>\n",
    "    <summary>Click here for Solution</summary>\n",
    "\n",
    "```python\n",
    "lm1 = LinearRegression()\n",
    "Z = df[['CPU_frequency','RAM_GB','Storage_GB_SSD','CPU_core','OS','GPU','Category']]\n",
    "lm1.fit(Z,Y)\n",
    "Y_hat = lm1.predict(Z)\n",
    "```\n",
    "\n",
    "</details>\n"
   ]
  },
  {
   "cell_type": "markdown",
   "metadata": {},
   "source": [
    "Plot the Distribution graph of the predicted values as well as the Actual values\n"
   ]
  },
  {
   "cell_type": "code",
   "execution_count": 39,
   "metadata": {},
   "outputs": [
    {
     "data": {
      "image/png": "[encoded data removed]",
      "text/plain": [
       "<Figure size 640x480 with 1 Axes>"
      ]
     },
     "metadata": {},
     "output_type": "display_data"
    }
   ],
   "source": [
    "# Write your code below and press Shift+Enter to execute\n",
    "ax1 = sns.distplot(df['Price'], hist=False, color='r', label='Actual Values')\n",
    "sns.distplot(Yhat1, hist=False, color='b', label='Predicted Values', ax=ax1)\n",
    "\n",
    "plt.title('Actual vs Fitted Values for Price')\n",
    "plt.xlabel('Price')\n",
    "plt.ylabel('Proportion of laptops')\n",
    "plt.legend(['Actual Value', 'Predicted Value'])\n",
    "plt.show()"
   ]
  },
  {
   "cell_type": "markdown",
   "metadata": {},
   "source": [
    "<details>\n",
    "    <summary>Click here for Solution</summary>\n",
    "\n",
    "```python\n",
    "ax1 = sns.distplot(df['Price'], hist=False, color=\"r\", label=\"Actual Value\")\n",
    "sns.distplot(Y_hat, hist=False, color=\"b\", label=\"Fitted Values\" , ax=ax1)\n",
    "\n",
    "plt.title('Actual vs Fitted Values for Price')\n",
    "plt.xlabel('Price')\n",
    "plt.ylabel('Proportion of laptops')\n",
    "\n",
    "```\n",
    "\n",
    "</details>\n"
   ]
  },
  {
   "cell_type": "markdown",
   "metadata": {},
   "source": [
    "Find the R^2 score and the MSE value for this fit. Is this better or worst than the performance of Single Linear Regression?\n"
   ]
  },
  {
   "cell_type": "code",
   "execution_count": 42,
   "metadata": {},
   "outputs": [
    {
     "name": "stdout",
     "output_type": "stream",
     "text": [
      "The R-square for Linear Regression is:  0.5082509055187374\n",
      "The mean square error of price and predicted value is:  161680.57263893107\n"
     ]
    }
   ],
   "source": [
    "# Write your code below and press Shift+Enter to execute\n",
    "mse_mlr = mean_squared_error(df['Price'], Yhat1)\n",
    "r2_score_mlr = lm.score(z, y)\n",
    "print('The R-square for Linear Regression is: ', r2_score_mlr)\n",
    "print('The mean square error of price and predicted value is: ', mse_mlr)"
   ]
  },
  {
   "cell_type": "markdown",
   "metadata": {},
   "source": [
    "# Task 3 - Polynomial Regression\n",
    "Use the variable \"CPU_frequency\" to create Polynomial features. Try this for 3 different values of polynomial degrees. Remember that polynomial fits are done using `numpy.polyfit`. \n"
   ]
  },
  {
   "cell_type": "markdown",
   "metadata": {},
   "source": [
    "# Yanfaa polynomial Approach"
   ]
  },
  {
   "cell_type": "code",
   "execution_count": 65,
   "metadata": {},
   "outputs": [
    {
     "data": {
      "text/plain": [
       "array([1255.01780655, 1150.22667036, 1728.23765257, 1255.01780655,\n",
       "       1213.38905337, 1255.01780655, 1255.01780655, 1255.01780655,\n",
       "       1338.40956308, 1213.38905337, 1213.38905337, 1150.22667036,\n",
       "       1150.22667036, 1255.01780655, 1255.01780655, 1338.40956308,\n",
       "       1213.38905337, 1213.38905337, 1255.01780655, 1255.01780655,\n",
       "       1213.38905337, 1338.40956308, 1213.38905337, 1338.40956308,\n",
       "       1728.23765257, 1150.22667036, 1227.67342216, 1728.23765257,\n",
       "       1728.23765257, 1338.40956308, 1728.23765257, 1728.23765257,\n",
       "       1255.01780655, 1213.38905337, 1255.01780655, 1213.38905337,\n",
       "       1728.23765257, 1213.38905337, 1338.40956308, 1255.01780655,\n",
       "       1213.38905337, 1728.23765257, 1255.01780655, 1255.01780655,\n",
       "       1255.01780655, 2024.10287661, 1255.01780655, 1338.40956308,\n",
       "       1255.01780655, 1255.01780655, 1005.30201608, 1213.38905337,\n",
       "       1213.38905337, 1213.38905337, 1213.38905337, 1255.01780655,\n",
       "       1255.01780655, 1338.40956308, 1728.23765257, 1338.40956308,\n",
       "       1338.40956308, 1728.23765257, 1338.40956308, 1338.40956308,\n",
       "       2398.45107048, 1728.23765257, 1255.01780655, 1213.38905337,\n",
       "       1213.38905337, 1338.40956308, 1338.40956308, 1213.38905337,\n",
       "       1728.23765257, 1338.40956308, 2024.10287661, 1255.01780655,\n",
       "       2024.10287661, 2398.45107048, 1338.40956308, 1338.40956308,\n",
       "       1338.40956308, 1728.23765257, 1728.23765257, 1728.23765257,\n",
       "       1728.23765257, 1338.40956308, 2024.10287661, 1502.46876064,\n",
       "       1338.40956308, 1255.01780655, 1213.38905337, 1728.23765257,\n",
       "       2024.10287661, 1502.46876064, 1338.40956308, 1728.23765257,\n",
       "       1728.23765257, 1338.40956308, 1227.67342216, 1728.23765257,\n",
       "       2024.10287661, 1728.23765257, 1213.38905337, 1338.40956308,\n",
       "       2024.10287661, 1338.40956308, 1338.40956308, 1213.38905337,\n",
       "       2398.45107048, 2024.10287661, 1728.23765257, 1728.23765257,\n",
       "       1338.40956308, 1255.01780655, 1338.40956308, 2024.10287661,\n",
       "       1338.40956308, 1728.23765257, 1338.40956308, 2398.45107048,\n",
       "       1255.01780655, 2024.10287661, 1338.40956308, 1255.01780655,\n",
       "       1255.01780655, 1338.40956308, 1213.38905337, 1227.67342216,\n",
       "       1338.40956308, 1338.40956308, 1338.40956308, 1338.40956308,\n",
       "       1728.23765257, 1502.46876064, 1161.87370016, 2024.10287661,\n",
       "       2024.10287661, 1255.01780655, 1728.23765257, 1150.22667036,\n",
       "       1227.67342216, 1150.22667036, 1338.40956308, 1728.23765257,\n",
       "       2024.10287661, 1338.40956308, 1728.23765257, 1227.67342216,\n",
       "       2024.10287661, 1502.46876064, 1338.40956308, 2024.10287661,\n",
       "       1728.23765257, 1338.40956308, 1338.40956308, 1161.87370016,\n",
       "       2024.10287661, 1255.01780655, 1338.40956308, 2024.10287661,\n",
       "       1161.87370016, 1728.23765257, 1255.01780655, 1213.38905337,\n",
       "       1227.67342216, 1338.40956308, 1338.40956308, 1338.40956308,\n",
       "       1338.40956308, 1150.22667036, 1338.40956308, 1338.40956308,\n",
       "       1338.40956308, 1161.87370016, 2024.10287661, 1338.40956308,\n",
       "       1502.46876064, 1728.23765257, 1338.40956308, 1338.40956308,\n",
       "       2024.10287661, 1338.40956308, 1728.23765257, 1150.22667036,\n",
       "       1227.67342216, 1502.46876064, 2024.10287661, 1728.23765257,\n",
       "       1728.23765257, 1227.67342216, 1338.40956308, 1150.22667036,\n",
       "       2024.10287661, 1338.40956308, 1338.40956308, 1338.40956308,\n",
       "       1338.40956308, 1728.23765257, 1338.40956308, 1227.67342216,\n",
       "       1161.87370016, 1502.46876064, 1728.23765257, 2024.10287661,\n",
       "       1728.23765257, 1338.40956308, 1502.46876064, 1338.40956308,\n",
       "       1338.40956308, 1728.23765257, 1728.23765257, 2024.10287661,\n",
       "       1161.87370016, 1338.40956308, 1338.40956308, 1728.23765257,\n",
       "       1338.40956308, 1338.40956308, 2024.10287661, 1728.23765257,\n",
       "       1728.23765257, 1338.40956308, 1338.40956308, 1338.40956308,\n",
       "       1502.46876064, 1728.23765257, 1161.87370016, 1161.87370016,\n",
       "       1161.87370016, 1338.40956308, 1338.40956308, 2024.10287661,\n",
       "       1161.87370016, 1502.46876064, 1227.67342216, 1502.46876064,\n",
       "       1338.40956308, 1161.87370016])"
      ]
     },
     "execution_count": 65,
     "metadata": {},
     "output_type": "execute_result"
    }
   ],
   "source": [
    "#  Write your code below and press Shift+Enter to execute\n",
    "pr= PolynomialFeatures(degree= 3, include_bias=False)\n",
    "x_poly = pr.fit_transform(df[['CPU_frequency']])\n",
    "lm.fit(x_poly, y)\n",
    "yhat2 = lm.predict(x_poly)\n",
    "yhat2"
   ]
  },
  {
   "cell_type": "markdown",
   "metadata": {},
   "source": [
    "# Coursera Polynomial Approach"
   ]
  },
  {
   "cell_type": "code",
   "execution_count": 68,
   "metadata": {},
   "outputs": [],
   "source": [
    "x = x.to_numpy().flatten()\n",
    "f1 = np.polyfit(x, y, 1) # first degree\n",
    "p1 = np.poly1d(f1)\n",
    "\n",
    "f3 = np.polyfit(x, y, 3) # third degree\n",
    "p3 = np.poly1d(f3)\n",
    "\n",
    "f5 = np.polyfit(x, y, 5) # fifth degree\n",
    "p5 = np.poly1d(f5)"
   ]
  },
  {
   "cell_type": "code",
   "execution_count": 69,
   "metadata": {},
   "outputs": [
    {
     "data": {
      "text/plain": [
       "array([1255.01780655, 1150.22667036, 1728.23765257, 1255.01780655,\n",
       "       1213.38905337, 1255.01780655, 1255.01780655, 1255.01780655,\n",
       "       1338.40956308, 1213.38905337, 1213.38905337, 1150.22667036,\n",
       "       1150.22667036, 1255.01780655, 1255.01780655, 1338.40956308,\n",
       "       1213.38905337, 1213.38905337, 1255.01780655, 1255.01780655,\n",
       "       1213.38905337, 1338.40956308, 1213.38905337, 1338.40956308,\n",
       "       1728.23765257, 1150.22667036, 1227.67342216, 1728.23765257,\n",
       "       1728.23765257, 1338.40956308, 1728.23765257, 1728.23765257,\n",
       "       1255.01780655, 1213.38905337, 1255.01780655, 1213.38905337,\n",
       "       1728.23765257, 1213.38905337, 1338.40956308, 1255.01780655,\n",
       "       1213.38905337, 1728.23765257, 1255.01780655, 1255.01780655,\n",
       "       1255.01780655, 2024.10287661, 1255.01780655, 1338.40956308,\n",
       "       1255.01780655, 1255.01780655, 1005.30201608, 1213.38905337,\n",
       "       1213.38905337, 1213.38905337, 1213.38905337, 1255.01780655,\n",
       "       1255.01780655, 1338.40956308, 1728.23765257, 1338.40956308,\n",
       "       1338.40956308, 1728.23765257, 1338.40956308, 1338.40956308,\n",
       "       2398.45107048, 1728.23765257, 1255.01780655, 1213.38905337,\n",
       "       1213.38905337, 1338.40956308, 1338.40956308, 1213.38905337,\n",
       "       1728.23765257, 1338.40956308, 2024.10287661, 1255.01780655,\n",
       "       2024.10287661, 2398.45107048, 1338.40956308, 1338.40956308,\n",
       "       1338.40956308, 1728.23765257, 1728.23765257, 1728.23765257,\n",
       "       1728.23765257, 1338.40956308, 2024.10287661, 1502.46876064,\n",
       "       1338.40956308, 1255.01780655, 1213.38905337, 1728.23765257,\n",
       "       2024.10287661, 1502.46876064, 1338.40956308, 1728.23765257,\n",
       "       1728.23765257, 1338.40956308, 1227.67342216, 1728.23765257,\n",
       "       2024.10287661, 1728.23765257, 1213.38905337, 1338.40956308,\n",
       "       2024.10287661, 1338.40956308, 1338.40956308, 1213.38905337,\n",
       "       2398.45107048, 2024.10287661, 1728.23765257, 1728.23765257,\n",
       "       1338.40956308, 1255.01780655, 1338.40956308, 2024.10287661,\n",
       "       1338.40956308, 1728.23765257, 1338.40956308, 2398.45107048,\n",
       "       1255.01780655, 2024.10287661, 1338.40956308, 1255.01780655,\n",
       "       1255.01780655, 1338.40956308, 1213.38905337, 1227.67342216,\n",
       "       1338.40956308, 1338.40956308, 1338.40956308, 1338.40956308,\n",
       "       1728.23765257, 1502.46876064, 1161.87370016, 2024.10287661,\n",
       "       2024.10287661, 1255.01780655, 1728.23765257, 1150.22667036,\n",
       "       1227.67342216, 1150.22667036, 1338.40956308, 1728.23765257,\n",
       "       2024.10287661, 1338.40956308, 1728.23765257, 1227.67342216,\n",
       "       2024.10287661, 1502.46876064, 1338.40956308, 2024.10287661,\n",
       "       1728.23765257, 1338.40956308, 1338.40956308, 1161.87370016,\n",
       "       2024.10287661, 1255.01780655, 1338.40956308, 2024.10287661,\n",
       "       1161.87370016, 1728.23765257, 1255.01780655, 1213.38905337,\n",
       "       1227.67342216, 1338.40956308, 1338.40956308, 1338.40956308,\n",
       "       1338.40956308, 1150.22667036, 1338.40956308, 1338.40956308,\n",
       "       1338.40956308, 1161.87370016, 2024.10287661, 1338.40956308,\n",
       "       1502.46876064, 1728.23765257, 1338.40956308, 1338.40956308,\n",
       "       2024.10287661, 1338.40956308, 1728.23765257, 1150.22667036,\n",
       "       1227.67342216, 1502.46876064, 2024.10287661, 1728.23765257,\n",
       "       1728.23765257, 1227.67342216, 1338.40956308, 1150.22667036,\n",
       "       2024.10287661, 1338.40956308, 1338.40956308, 1338.40956308,\n",
       "       1338.40956308, 1728.23765257, 1338.40956308, 1227.67342216,\n",
       "       1161.87370016, 1502.46876064, 1728.23765257, 2024.10287661,\n",
       "       1728.23765257, 1338.40956308, 1502.46876064, 1338.40956308,\n",
       "       1338.40956308, 1728.23765257, 1728.23765257, 2024.10287661,\n",
       "       1161.87370016, 1338.40956308, 1338.40956308, 1728.23765257,\n",
       "       1338.40956308, 1338.40956308, 2024.10287661, 1728.23765257,\n",
       "       1728.23765257, 1338.40956308, 1338.40956308, 1338.40956308,\n",
       "       1502.46876064, 1728.23765257, 1161.87370016, 1161.87370016,\n",
       "       1161.87370016, 1338.40956308, 1338.40956308, 2024.10287661,\n",
       "       1161.87370016, 1502.46876064, 1227.67342216, 1502.46876064,\n",
       "       1338.40956308, 1161.87370016])"
      ]
     },
     "execution_count": 69,
     "metadata": {},
     "output_type": "execute_result"
    }
   ],
   "source": [
    "p3(x)"
   ]
  },
  {
   "cell_type": "markdown",
   "metadata": {},
   "source": [
    "we notice that both ways with same degree giving the same results"
   ]
  },
  {
   "cell_type": "markdown",
   "metadata": {},
   "source": [
    "<details>\n",
    "    <summary>Click here for Solution</summary>\n",
    "\n",
    "```python\n",
    "X = X.to_numpy().flatten()\n",
    "f1 = np.polyfit(X, Y, 1)\n",
    "p1 = np.poly1d(f1)\n",
    "\n",
    "f3 = np.polyfit(X, Y, 3)\n",
    "p3 = np.poly1d(f3)\n",
    "\n",
    "f5 = np.polyfit(X, Y, 5)\n",
    "p5 = np.poly1d(f5)\n",
    "```\n",
    "\n",
    "</details>\n"
   ]
  },
  {
   "cell_type": "markdown",
   "metadata": {},
   "source": [
    "Plot the regression output against the actual data points to note how the data fits in each case. To plot the polynomial response over the actual data points, you have the function shown below.\n"
   ]
  },
  {
   "cell_type": "code",
   "execution_count": 56,
   "metadata": {},
   "outputs": [],
   "source": [
    "def PlotPolly(model, independent_variable, dependent_variabble, Name):\n",
    "    x_new = np.linspace(independent_variable.min(),independent_variable.max(),100)\n",
    "    y_new = model(x_new)\n",
    "\n",
    "    plt.plot(independent_variable, dependent_variabble, '.', x_new, y_new, '-')\n",
    "    plt.title(f'Polynomial Fit for Price ~ {Name}')\n",
    "    ax = plt.gca()\n",
    "    ax.set_facecolor((0.898, 0.898, 0.898))\n",
    "    fig = plt.gcf()\n",
    "    plt.xlabel(Name)\n",
    "    plt.ylabel('Price of laptops')"
   ]
  },
  {
   "cell_type": "markdown",
   "metadata": {},
   "source": [
    "Call this function for the 3 models created and get the required graphs.\n"
   ]
  },
  {
   "cell_type": "code",
   "execution_count": 58,
   "metadata": {},
   "outputs": [
    {
     "data": {
      "image/png": "[encoded data removed]",
      "text/plain": [
       "<Figure size 640x480 with 1 Axes>"
      ]
     },
     "metadata": {},
     "output_type": "display_data"
    }
   ],
   "source": [
    "#  Write your code below and press Shift+Enter to execute\n",
    "# Call for function of degree 1\n",
    "PlotPolly(p1, x, y, 'CPU_frequency')"
   ]
  },
  {
   "cell_type": "markdown",
   "metadata": {},
   "source": [
    "<details>\n",
    "    <summary>Click here for Solution</summary>\n",
    "    \n",
    "```python\n",
    "PlotPolly(p1, X, Y, 'CPU_frequency')\n",
    "```\n",
    "\n",
    "</details>\n"
   ]
  },
  {
   "cell_type": "code",
   "execution_count": 59,
   "metadata": {},
   "outputs": [
    {
     "data": {
      "image/png": "[encoded data removed]",
      "text/plain": [
       "<Figure size 640x480 with 1 Axes>"
      ]
     },
     "metadata": {},
     "output_type": "display_data"
    }
   ],
   "source": [
    "#  Write your code below and press Shift+Enter to execute\n",
    "# Call for function of degree 3\n",
    "PlotPolly(p3, x, y, 'CPU_frequency')"
   ]
  },
  {
   "cell_type": "markdown",
   "metadata": {},
   "source": [
    "<details>\n",
    "    <summary>Click here for Solution</summary>\n",
    "    \n",
    "```python\n",
    "PlotPolly(p3, X, Y, 'CPU_frequency')\n",
    "```\n",
    "\n",
    "</details>\n"
   ]
  },
  {
   "cell_type": "code",
   "execution_count": 60,
   "metadata": {},
   "outputs": [
    {
     "data": {
      "image/png": "[encoded data removed]",
      "text/plain": [
       "<Figure size 640x480 with 1 Axes>"
      ]
     },
     "metadata": {},
     "output_type": "display_data"
    }
   ],
   "source": [
    "#  Write your code below and press Shift+Enter to execute\n",
    "# Call for function of degree 5\n",
    "PlotPolly(p5, x, y, 'CPU_frequency')"
   ]
  },
  {
   "cell_type": "markdown",
   "metadata": {},
   "source": [
    "<details>\n",
    "    <summary>Click here for Solution</summary>\n",
    "    \n",
    "```python\n",
    "PlotPolly(p5, X, Y, 'CPU_frequency')\n",
    "```\n",
    "\n",
    "</details>\n"
   ]
  },
  {
   "cell_type": "markdown",
   "metadata": {},
   "source": [
    "Also, calculate the R^2 and MSE values for these fits. For polynomial functions, the function sklearn.metrics.r2_score will be used to calculate R^2 values.\n"
   ]
  },
  {
   "cell_type": "code",
   "execution_count": 64,
   "metadata": {},
   "outputs": [
    {
     "name": "stdout",
     "output_type": "stream",
     "text": [
      "The R-square value for 1st degree polynomial is:  0.1344436321024326\n",
      "The MSE value for 1st degree polynomial is:  284583.4405868629\n",
      "The R-square value for 3rd degree polynomial is:  0.26692640796531153\n",
      "The MSE value for 3rd degree polynomial is:  241024.86303848756\n",
      "The R-square value for 5th degree polynomial is:  0.3030822706444204\n",
      "The MSE value for 5th degree polynomial is:  229137.29548052506\n"
     ]
    }
   ],
   "source": [
    "#  Write your code below and press Shift+Enter to execute\n",
    "r_squared_1 = r2_score(y, p1(x))\n",
    "print('The R-square value for 1st degree polynomial is: ', r_squared_1)\n",
    "print('The MSE value for 1st degree polynomial is: ', mean_squared_error(y,p1(x)))\n",
    "r_squared_3 = r2_score(y, p3(x))\n",
    "print('The R-square value for 3rd degree polynomial is: ', r_squared_3)\n",
    "print('The MSE value for 3rd degree polynomial is: ', mean_squared_error(y,p3(x)))\n",
    "r_squared_5 = r2_score(y, p5(x))\n",
    "print('The R-square value for 5th degree polynomial is: ', r_squared_5)\n",
    "print('The MSE value for 5th degree polynomial is: ', mean_squared_error(y,p5(x)))"
   ]
  },
  {
   "cell_type": "markdown",
   "metadata": {},
   "source": [
    "<details>\n",
    "    <summary>Click here for Solution</summary>\n",
    "    \n",
    "```python\n",
    "r_squared_1 = r2_score(Y, p1(X))\n",
    "print('The R-square value for 1st degree polynomial is: ', r_squared_1)\n",
    "print('The MSE value for 1st degree polynomial is: ', mean_squared_error(Y,p1(X)))\n",
    "r_squared_3 = r2_score(Y, p3(X))\n",
    "print('The R-square value for 3rd degree polynomial is: ', r_squared_3)\n",
    "print('The MSE value for 3rd degree polynomial is: ', mean_squared_error(Y,p3(X)))\n",
    "r_squared_5 = r2_score(Y, p5(X))\n",
    "print('The R-square value for 5th degree polynomial is: ', r_squared_5)\n",
    "print('The MSE value for 5th degree polynomial is: ', mean_squared_error(Y,p5(X)))\n",
    "```\n",
    "\n",
    "</details>\n"
   ]
  },
  {
   "cell_type": "markdown",
   "metadata": {},
   "source": [
    "# Task 4 - Pipeline\n",
    "Create a pipeline that performs parameter scaling, Polynomial Feature generation and Linear regression. Use the set of multiple features as before to create this pipeline. \n"
   ]
  },
  {
   "cell_type": "markdown",
   "metadata": {},
   "source": [
    "# Coursera Pipeline Approach"
   ]
  },
  {
   "cell_type": "code",
   "execution_count": 73,
   "metadata": {},
   "outputs": [
    {
     "data": {
      "text/plain": [
       "array([1485.53125 ,  780.25    , 1268.765625, 1009.390625, 1505.109375,\n",
       "       1153.453125, 1045.828125, 1029.515625,  813.859375, 1185.75    ,\n",
       "       1056.796875,  692.640625,  558.453125, 1485.53125 , 1311.328125,\n",
       "       1469.46875 , 1293.390625, 1056.796875, 1485.53125 , 1311.328125,\n",
       "       1293.390625, 1469.46875 , 1505.109375, 1301.53125 , 1993.40625 ,\n",
       "        684.515625,  715.5     , 1268.765625, 1892.875   , 1039.734375,\n",
       "       1892.875   , 1656.125   , 1485.53125 , 1185.75    , 1311.328125,\n",
       "       1505.109375,  672.046875, 1332.984375,  957.703125, 1153.453125,\n",
       "       1505.109375, 1519.765625, 1118.203125,  638.796875, 1153.453125,\n",
       "       2681.1875  , 1045.828125, 1808.8125  , 1045.828125, 1485.53125 ,\n",
       "       1665.640625, 1185.75    , 1505.109375, 1293.390625, 1185.75    ,\n",
       "       1485.53125 ,  941.640625, 1797.71875 , 1620.046875, 1315.15625 ,\n",
       "       1469.46875 , 1134.453125, 1301.53125 , 1301.53125 , 2818.578125,\n",
       "        672.046875, 1485.53125 , 1332.984375,  783.515625, 1301.53125 ,\n",
       "       1256.640625, 1185.75    , 1656.125   , 1590.015625, 1730.578125,\n",
       "       1311.328125, 1258.265625, 3179.359375, 1436.390625, 1469.46875 ,\n",
       "       1469.46875 , 1656.125   , 1656.125   , 1892.875   , 1993.40625 ,\n",
       "       1469.46875 , 1684.375   , 1549.296875, 1469.46875 , 1045.828125,\n",
       "       1505.109375, 1656.125   , 2491.546875, 1549.296875, 1469.46875 ,\n",
       "       1268.765625, 1993.40625 , 1315.15625 ,  780.890625, 2344.328125,\n",
       "       1684.375   , 1022.671875, 1056.796875, 1469.46875 , 1258.265625,\n",
       "        665.828125, 1797.71875 , 1293.390625, 1864.9375  , 1397.296875,\n",
       "       1656.125   ,  978.140625,  694.765625,  996.828125, 1808.8125  ,\n",
       "       1629.0625  , 1301.53125 , 2770.296875, 1469.46875 , 1853.5625  ,\n",
       "       1485.53125 , 2491.546875, 1469.46875 , 1343.390625, 1311.328125,\n",
       "       1315.15625 , 1332.984375, 1152.640625, 1469.46875 , 1469.46875 ,\n",
       "       1375.890625, 1315.15625 , 1993.40625 , 1549.296875, 1347.1875  ,\n",
       "       1746.34375 , 1730.578125, 1153.453125, 1620.046875,  692.640625,\n",
       "        780.890625,  692.640625, 1469.46875 ,  978.140625, 1730.578125,\n",
       "       1469.46875 , 1022.671875,  780.890625, 2467.515625, 2188.6875  ,\n",
       "       1469.46875 , 2491.546875, 1656.125   , 1497.140625,  722.890625,\n",
       "       1347.1875  , 1730.578125, 1029.515625, 1808.8125  , 2681.1875  ,\n",
       "       1347.1875  , 1993.40625 , 1485.53125 , 1056.796875, 1402.09375 ,\n",
       "       1469.46875 , 1808.8125  , 1802.171875, 1301.53125 ,  780.25    ,\n",
       "        957.703125, 1469.46875 , 1469.46875 , 1347.1875  , 1224.140625,\n",
       "       1315.15625 , 1549.296875, 1620.046875, 1808.8125  , 1469.46875 ,\n",
       "       2968.59375 , 1469.46875 , 2298.875   ,  981.359375, 1402.09375 ,\n",
       "       2209.59375 , 2466.484375, 1993.40625 , 1453.8125  ,  780.890625,\n",
       "       1301.53125 ,  867.59375 , 2491.546875, 1469.46875 , 1808.8125  ,\n",
       "       1808.8125  , 1200.390625, 1993.40625 , 1301.53125 ,  627.140625,\n",
       "       1347.1875  , 1549.296875,  659.71875 , 2021.75    , 1620.046875,\n",
       "       1357.390625, 1267.84375 , 1314.640625, 1469.46875 , 1656.125   ,\n",
       "       2448.734375, 2109.921875, 1406.328125,  957.703125, 1314.640625,\n",
       "       1993.40625 , 1808.8125  , 1469.46875 , 1746.34375 , 1233.375   ,\n",
       "       1620.046875, 1314.640625, 1469.46875 , 1499.515625, 2156.734375,\n",
       "       1993.40625 , 1347.1875  , 1233.640625, 1223.3125  , 1808.8125  ,\n",
       "       1808.8125  , 2109.921875, 1347.1875  , 1889.328125, 1402.09375 ,\n",
       "       1907.      , 1039.734375, 1347.15625 ])"
      ]
     },
     "execution_count": 73,
     "metadata": {},
     "output_type": "execute_result"
    }
   ],
   "source": [
    "#  Write your code below and press Shift+Enter to execute\n",
    "Input=[('scale',StandardScaler()), ('polynomial', PolynomialFeatures(include_bias=False)), ('model',LinearRegression())]\n",
    "pipe=Pipeline(Input)\n",
    "Z = z.astype(float)\n",
    "pipe.fit(Z,y)\n",
    "ypipe=pipe.predict(Z)\n",
    "ypipe"
   ]
  },
  {
   "cell_type": "markdown",
   "metadata": {},
   "source": [
    "<details>\n",
    "    <summary>Click here for Solution</summary>\n",
    "    \n",
    "```python\n",
    "Input=[('scale',StandardScaler()), ('polynomial', PolynomialFeatures(include_bias=False)), ('model',LinearRegression())]\n",
    "pipe=Pipeline(Input)\n",
    "Z = Z.astype(float)\n",
    "pipe.fit(Z,Y)\n",
    "ypipe=pipe.predict(Z)\n",
    "```\n",
    "\n",
    "</details>\n"
   ]
  },
  {
   "cell_type": "markdown",
   "metadata": {},
   "source": [
    "# Yanfaa Pipeline Approach"
   ]
  },
  {
   "cell_type": "code",
   "execution_count": 81,
   "metadata": {},
   "outputs": [
    {
     "data": {
      "text/plain": [
       "array([1345.51622771,  710.44905496, 1552.37242687, 1295.00681012,\n",
       "       1543.13847022, 1056.42067418, 1252.02084839,  806.98504446,\n",
       "       1007.51446753, 1449.64309091, 1254.0429167 ,  757.73972448,\n",
       "        380.80382381, 1345.51622771, 1154.22076129, 1452.55027146,\n",
       "       1445.33838312, 1254.0429167 , 1345.51622771, 1154.22076129,\n",
       "       1640.93855733, 1452.55027146, 1543.13847022, 1167.75942573,\n",
       "       1841.4679804 ,  283.00373671, 1212.25798099, 1552.37242687,\n",
       "       1939.2680675 , 1376.73250015, 1939.2680675 , 1650.17251398,\n",
       "       1345.51622771, 1449.64309091, 1154.22076129, 1543.13847022,\n",
       "       1138.08329264, 1351.8430038 , 1105.31455464, 1056.42067418,\n",
       "       1543.13847022, 1362.90546776,  882.80281577,  904.78513157,\n",
       "       1056.42067418, 2093.00082524, 1252.02084839, 1643.84573788,\n",
       "       1252.02084839, 1345.51622771, 1212.9253343 , 1449.64309091,\n",
       "       1543.13847022, 1445.33838312, 1449.64309091, 1345.51622771,\n",
       "        628.97535593, 1775.17253369, 1747.97260108, 1550.35035857,\n",
       "       1452.55027146, 1819.39854227, 1167.75942573, 1167.75942573,\n",
       "       2126.14854859, 1138.08329264, 1345.51622771, 1351.8430038 ,\n",
       "        826.59759845, 1167.75942573, 1278.93241305, 1449.64309091,\n",
       "       1650.17251398, 1741.64582499, 1781.12032443, 1154.22076129,\n",
       "       1353.67500618, 2891.33041427, 1681.67715437, 1452.55027146,\n",
       "       1452.55027146, 1650.17251398, 1650.17251398, 1939.2680675 ,\n",
       "       1841.4679804 , 1452.55027146, 1398.52939159, 1485.69799481,\n",
       "       1452.55027146, 1252.02084839, 1543.13847022, 1650.17251398,\n",
       "       2163.71125727, 1485.69799481, 1452.55027146, 1552.37242687,\n",
       "       1841.4679804 , 1550.35035857,  890.33061789, 2130.56353392,\n",
       "       1398.52939159, 1124.92710862, 1254.0429167 , 1452.55027146,\n",
       "       1353.67500618,  580.06914928, 1775.17253369, 1445.33838312,\n",
       "       1716.46796068, 1447.1703855 , 1650.17251398,  989.77378795,\n",
       "        677.86923639,  709.18495736, 1643.84573788, 1649.79352862,\n",
       "       1167.75942573, 2825.03496757, 1452.55027146, 1814.26804778,\n",
       "       1345.51622771, 2163.71125727, 1452.55027146,  756.47562688,\n",
       "       1154.22076129, 1550.35035857, 1351.8430038 , 1288.0757523 ,\n",
       "       1452.55027146, 1452.55027146, 1593.3363203 , 1550.35035857,\n",
       "       1841.4679804 , 1485.69799481, 1386.25482476, 1551.99344152,\n",
       "       1781.12032443, 1056.42067418, 1747.97260108,  757.73972448,\n",
       "        890.33061789,  757.73972448, 1452.55027146,  989.77378795,\n",
       "       1781.12032443, 1452.55027146, 1124.92710862,  890.33061789,\n",
       "       2475.59175808, 2155.55597387, 1452.55027146, 2163.71125727,\n",
       "       1650.17251398, 1583.87706727,  529.5597317 , 1386.25482476,\n",
       "       1781.12032443,  806.98504446, 1643.84573788, 2093.00082524,\n",
       "       1386.25482476, 1841.4679804 , 1345.51622771, 1254.0429167 ,\n",
       "       1419.40254811, 1452.55027146, 1643.84573788, 1862.23085937,\n",
       "       1167.75942573,  710.44905496, 1105.31455464, 1452.55027146,\n",
       "       1452.55027146, 1386.25482476, 1222.34821037, 1550.35035857,\n",
       "       1485.69799481, 1747.97260108, 1643.84573788, 1452.55027146,\n",
       "       2858.18269092, 1452.55027146, 2535.93941404, 1155.48485889,\n",
       "       1419.40254811, 2097.41581057, 2569.0871374 , 1841.4679804 ,\n",
       "       2246.84386052,  890.33061789, 1167.75942573, 1057.68477179,\n",
       "       2163.71125727, 1452.55027146, 1643.84573788, 1643.84573788,\n",
       "       1354.75018436, 1841.4679804 , 1167.75942573, 1237.56633472,\n",
       "       1386.25482476, 1485.69799481, 1205.13671005, 1972.41579085,\n",
       "       1747.97260108, 1402.04085388, 1387.89790771, 1054.80513705,\n",
       "       1452.55027146, 1650.17251398, 2633.73950115, 1874.61570375,\n",
       "       1675.35037828, 1105.31455464, 1054.80513705, 1841.4679804 ,\n",
       "       1643.84573788, 1452.55027146, 1551.99344152, 1574.35474267,\n",
       "       1747.97260108, 1054.80513705, 1452.55027146, 1677.37244659,\n",
       "       2409.29631137, 1841.4679804 , 1386.25482476,  988.50969035,\n",
       "       1194.95935834, 1643.84573788, 1643.84573788, 1874.61570375,\n",
       "       1386.25482476, 1808.32025704, 1419.40254811, 1676.99346123,\n",
       "       1376.73250015, 1386.25482476])"
      ]
     },
     "execution_count": 81,
     "metadata": {},
     "output_type": "execute_result"
    }
   ],
   "source": [
    "input = [(('polynomial'), PolynomialFeatures(degree=1)),('mode', lm)]\n",
    "pipe1 = Pipeline(input)\n",
    "pipe1.fit(z, y)\n",
    "yhatt = pipe1.predict(z)\n",
    "yhatt"
   ]
  },
  {
   "cell_type": "markdown",
   "metadata": {},
   "source": [
    "Evaluate the MSE and R^2 values for the this predicted output.\n"
   ]
  },
  {
   "cell_type": "code",
   "execution_count": 83,
   "metadata": {},
   "outputs": [
    {
     "name": "stdout",
     "output_type": "stream",
     "text": [
      "MSE for multi-variable polynomial pipeline is:  120597.62671001018\n",
      "R^2 for multi-variable polynomial pipeline is:  0.6332040840573009\n"
     ]
    }
   ],
   "source": [
    "#  Write your code below and press Shift+Enter to execute\n",
    "print('MSE for multi-variable polynomial pipeline is: ', mean_squared_error(y, ypipe))\n",
    "print('R^2 for multi-variable polynomial pipeline is: ', r2_score(y, ypipe))"
   ]
  },
  {
   "cell_type": "markdown",
   "metadata": {},
   "source": [
    "<details>\n",
    "    <summary>Click here for Solution</summary>\n",
    "    \n",
    "```python\n",
    "print('MSE for multi-variable polynomial pipeline is: ', mean_squared_error(Y, ypipe))\n",
    "print('R^2 for multi-variable polynomial pipeline is: ', r2_score(Y, ypipe))\n",
    "\n",
    "```\n",
    "\n",
    "</details>\n"
   ]
  },
  {
   "cell_type": "markdown",
   "metadata": {},
   "source": [
    "You should now have seen that the values of R^2 increase as we go from Single Linear Regression to Multiple Linear Regression. Further, if we go for multiple linear regression extended with polynomial features, we get an even better R^2 value.\n"
   ]
  },
  {
   "cell_type": "markdown",
   "metadata": {},
   "source": [
    "# Congratulations! You have completed the lab\n"
   ]
  },
  {
   "cell_type": "markdown",
   "metadata": {},
   "source": [
    "## Authors\n"
   ]
  },
  {
   "cell_type": "markdown",
   "metadata": {},
   "source": [
    "[Abhishek Gagneja](https://www.coursera.org/instructor/~129186572)\n",
    "\n",
    "[Vicky Kuo](https://author.skills.network/instructors/vicky_kuo)\n"
   ]
  },
  {
   "cell_type": "markdown",
   "metadata": {},
   "source": [
    "## Change Log\n"
   ]
  },
  {
   "cell_type": "markdown",
   "metadata": {},
   "source": [
    "|Date (YYYY-MM-DD)|Version|Changed By|Change Description|\n",
    "|-|-|-|-|\n",
    "|2023-09-16|0.1|Abhishek Gagneja|Initial Version Created|\n",
    "|2023-09-19|0.2|Vicky Kuo|Reviewed and Revised|\n"
   ]
  },
  {
   "cell_type": "markdown",
   "metadata": {},
   "source": [
    "Copyright © 2023 IBM Corporation. All rights reserved.\n"
   ]
  }
 ],
 "metadata": {
  "kernelspec": {
   "display_name": "Python 3 (ipykernel)",
   "language": "python",
   "name": "python3"
  },
  "language_info": {
   "codemirror_mode": {
    "name": "ipython",
    "version": 3
   },
   "file_extension": ".py",
   "mimetype": "text/x-python",
   "name": "python",
   "nbconvert_exporter": "python",
   "pygments_lexer": "ipython3",
   "version": "3.11.5"
  }
 },
 "nbformat": 4,
 "nbformat_minor": 4
}
